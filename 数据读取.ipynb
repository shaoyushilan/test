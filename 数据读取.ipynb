{
 "cells": [
  {
   "cell_type": "code",
   "execution_count": 1,
   "metadata": {},
   "outputs": [],
   "source": [
    "import torch \n",
    "from torch.autograd import Variable\n",
    "import torch.utils.data as Data"
   ]
  },
  {
   "cell_type": "code",
   "execution_count": 2,
   "metadata": {},
   "outputs": [
    {
     "data": {
      "text/plain": [
       "<torch._C.Generator at 0x2af8c1f36b0>"
      ]
     },
     "execution_count": 2,
     "metadata": {},
     "output_type": "execute_result"
    }
   ],
   "source": [
    "torch.manual_seed(1)"
   ]
  },
  {
   "cell_type": "code",
   "execution_count": 5,
   "metadata": {},
   "outputs": [
    {
     "name": "stdout",
     "output_type": "stream",
     "text": [
      "Epoch: 0 | Step: 0 |  batch_x: [ 5.  7. 10.  3.  4.] |  batch_y: tensor([6., 4., 1., 8., 7.])\n",
      "Epoch: 0 | Step: 1 |  batch_x: [2. 1. 8. 9. 6.] |  batch_y: tensor([ 9., 10.,  3.,  2.,  5.])\n",
      "Epoch: 1 | Step: 0 |  batch_x: [ 4.  6.  7. 10.  8.] |  batch_y: tensor([7., 5., 4., 1., 3.])\n",
      "Epoch: 1 | Step: 1 |  batch_x: [5. 3. 2. 1. 9.] |  batch_y: tensor([ 6.,  8.,  9., 10.,  2.])\n",
      "Epoch: 2 | Step: 0 |  batch_x: [ 4.  2.  5.  6. 10.] |  batch_y: tensor([7., 9., 6., 5., 1.])\n",
      "Epoch: 2 | Step: 1 |  batch_x: [3. 9. 1. 8. 7.] |  batch_y: tensor([ 8.,  2., 10.,  3.,  4.])\n"
     ]
    }
   ],
   "source": [
    "BATCH_SIZE=5\n",
    "x=torch.linspace(1,10,10)\n",
    "y=torch.linspace(10,1,10)\n",
    "# 先转换成torch 能识别的dataSet\n",
    "torch_dataset=Data.TensorDataset(x,y)\n",
    "# 把dataset 放入dataloader\n",
    "loader=Data.DataLoader(\n",
    "    dataset=torch_dataset,\n",
    "    batch_size=BATCH_SIZE,\n",
    "    shuffle=True,\n",
    "    num_workers=2\n",
    ")\n",
    "for epoch in range(3):\n",
    "    for step,(batch_x,batch_y) in enumerate(loader):\n",
    "        print('Epoch:',epoch,'| Step:',step,'|  batch_x:',batch_x.numpy(),'|  batch_y:',batch_y)"
   ]
  },
  {
   "cell_type": "code",
   "execution_count": 6,
   "metadata": {},
   "outputs": [
    {
     "name": "stdout",
     "output_type": "stream",
     "text": [
      "Epoch: 0 | Step: 0 |  batch_x: [ 4. 10.  9.  8.  7.  6.  1.  2.] |  batch_y: tensor([ 7.,  1.,  2.,  3.,  4.,  5., 10.,  9.])\n",
      "Epoch: 0 | Step: 1 |  batch_x: [5. 3.] |  batch_y: tensor([6., 8.])\n",
      "Epoch: 1 | Step: 0 |  batch_x: [9. 8. 4. 6. 5. 3. 7. 2.] |  batch_y: tensor([2., 3., 7., 5., 6., 8., 4., 9.])\n",
      "Epoch: 1 | Step: 1 |  batch_x: [10.  1.] |  batch_y: tensor([ 1., 10.])\n",
      "Epoch: 2 | Step: 0 |  batch_x: [ 5.  1.  3.  7.  6. 10.  9.  8.] |  batch_y: tensor([ 6., 10.,  8.,  4.,  5.,  1.,  2.,  3.])\n",
      "Epoch: 2 | Step: 1 |  batch_x: [2. 4.] |  batch_y: tensor([9., 7.])\n"
     ]
    }
   ],
   "source": [
    "BATCH_SIZE=8\n",
    "x=torch.linspace(1,10,10)\n",
    "y=torch.linspace(10,1,10)\n",
    "# 先转换成torch 能识别的dataSet\n",
    "torch_dataset=Data.TensorDataset(x,y)\n",
    "# 把dataset 放入dataloader\n",
    "loader=Data.DataLoader(\n",
    "    dataset=torch_dataset,\n",
    "    batch_size=BATCH_SIZE,\n",
    "    shuffle=True,\n",
    "    num_workers=2\n",
    ")\n",
    "for epoch in range(3):\n",
    "    for step,(batch_x,batch_y) in enumerate(loader):\n",
    "        print('Epoch:',epoch,'| Step:',step,'|  batch_x:',batch_x.numpy(),'|  batch_y:',batch_y)"
   ]
  },
  {
   "cell_type": "code",
   "execution_count": null,
   "metadata": {},
   "outputs": [],
   "source": []
  }
 ],
 "metadata": {
  "kernelspec": {
   "display_name": "Python 3",
   "language": "python",
   "name": "python3"
  },
  "language_info": {
   "codemirror_mode": {
    "name": "ipython",
    "version": 3
   },
   "file_extension": ".py",
   "mimetype": "text/x-python",
   "name": "python",
   "nbconvert_exporter": "python",
   "pygments_lexer": "ipython3",
   "version": "3.6.5"
  },
  "latex_envs": {
   "LaTeX_envs_menu_present": true,
   "autoclose": false,
   "autocomplete": true,
   "bibliofile": "biblio.bib",
   "cite_by": "apalike",
   "current_citInitial": 1,
   "eqLabelWithNumbers": true,
   "eqNumInitial": 1,
   "hotkeys": {
    "equation": "Ctrl-E",
    "itemize": "Ctrl-I"
   },
   "labels_anchors": false,
   "latex_user_defs": false,
   "report_style_numbering": false,
   "user_envs_cfg": false
  }
 },
 "nbformat": 4,
 "nbformat_minor": 2
}
